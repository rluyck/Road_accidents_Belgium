{
 "cells": [
  {
   "cell_type": "markdown",
   "metadata": {},
   "source": [
    "Road accidents Belgium 2005-2018 "
   ]
  },
  {
   "cell_type": "markdown",
   "metadata": {},
   "source": [
    "D:\\Github\\Road_accidents_Belgium\n",
    "\n",
    "Source:\n",
    "\n",
    "Data available at https://statbel.fgov.be/en/open-data. This data is made available under the 'Licentie open data' which is compatible with the Creative Commons Attribution 2.0 license https://creativecommons.org/licenses/by/2.0\n",
    "\n",
    "questions:\n",
    "\t-what year/month/day/hour do most accidents occur?\n",
    "\t-what year/month/day/hour give most casualties?\n",
    "\t-clustering?\n",
    "\t-"
   ]
  },
  {
   "cell_type": "code",
   "execution_count": 1,
   "metadata": {},
   "outputs": [],
   "source": [
    "import numpy as np\n",
    "import pandas as pd\n",
    "import matplotlib.pyplot as plt \n",
    "import seaborn as sns\n",
    "import os, re"
   ]
  },
  {
   "cell_type": "markdown",
   "metadata": {},
   "source": [
    "###########\n",
    "#accidents#\n",
    "###########"
   ]
  },
  {
   "cell_type": "code",
   "execution_count": 2,
   "metadata": {},
   "outputs": [
    {
     "data": {
      "text/plain": [
       "'D:\\\\GitHub\\\\Road_accidents_Belgium'"
      ]
     },
     "execution_count": 2,
     "metadata": {},
     "output_type": "execute_result"
    }
   ],
   "source": [
    "os.getcwd()"
   ]
  },
  {
   "cell_type": "code",
   "execution_count": 3,
   "metadata": {},
   "outputs": [],
   "source": [
    "os.chdir('D:\\\\GitHub\\\\Road_accidents_Belgium\\\\Accidents')"
   ]
  },
  {
   "cell_type": "code",
   "execution_count": 4,
   "metadata": {},
   "outputs": [
    {
     "data": {
      "text/plain": [
       "'D:\\\\GitHub\\\\Road_accidents_Belgium\\\\Accidents'"
      ]
     },
     "execution_count": 4,
     "metadata": {},
     "output_type": "execute_result"
    }
   ],
   "source": [
    "os.getcwd()"
   ]
  },
  {
   "cell_type": "code",
   "execution_count": 5,
   "metadata": {},
   "outputs": [],
   "source": [
    "path = os.getcwd()\n",
    "files = os.listdir(path)"
   ]
  },
  {
   "cell_type": "code",
   "execution_count": 6,
   "metadata": {},
   "outputs": [],
   "source": [
    "files_xls = [f for f in files if f[-4:] == 'xlsx']"
   ]
  },
  {
   "cell_type": "code",
   "execution_count": 7,
   "metadata": {},
   "outputs": [
    {
     "data": {
      "text/plain": [
       "['TF_ACCIDENTS_2005.xlsx',\n",
       " 'TF_ACCIDENTS_2006.xlsx',\n",
       " 'TF_ACCIDENTS_2007.xlsx',\n",
       " 'TF_ACCIDENTS_2008.xlsx',\n",
       " 'TF_ACCIDENTS_2009.xlsx',\n",
       " 'TF_ACCIDENTS_2010.xlsx',\n",
       " 'TF_ACCIDENTS_2011.xlsx',\n",
       " 'TF_ACCIDENTS_2012.xlsx',\n",
       " 'TF_ACCIDENTS_2013.xlsx',\n",
       " 'TF_ACCIDENTS_2014.xlsx',\n",
       " 'TF_ACCIDENTS_2015.xlsx',\n",
       " 'TF_ACCIDENTS_2016.xlsx',\n",
       " 'TF_ACCIDENTS_2017.xlsx',\n",
       " 'TF_ACCIDENTS_2018.xlsx']"
      ]
     },
     "execution_count": 7,
     "metadata": {},
     "output_type": "execute_result"
    }
   ],
   "source": [
    "files_xls"
   ]
  },
  {
   "cell_type": "code",
   "execution_count": 8,
   "metadata": {},
   "outputs": [],
   "source": [
    "df_accidents = pd.DataFrame()"
   ]
  },
  {
   "cell_type": "code",
   "execution_count": null,
   "metadata": {},
   "outputs": [],
   "source": [
    "#Make one dataframe out of all the .xlsx files\n",
    "#Loop over list of files to append to empty dataframe:\n",
    "for f in files_xls:\n",
    "    data = pd.read_excel(f)\n",
    "    df_accidents = df_accidents.append(data)"
   ]
  },
  {
   "cell_type": "code",
   "execution_count": null,
   "metadata": {},
   "outputs": [],
   "source": [
    "df_accidents.columns"
   ]
  },
  {
   "cell_type": "code",
   "execution_count": null,
   "metadata": {},
   "outputs": [],
   "source": [
    "#remove french descriptions (FR columns)\n",
    "cols = [c for c in df_accidents.columns if not c.endswith('FR')]\n",
    "cols\n",
    "df_accidents=df_accidents[cols]"
   ]
  },
  {
   "cell_type": "code",
   "execution_count": null,
   "metadata": {},
   "outputs": [],
   "source": [
    "df_accidents.columns"
   ]
  },
  {
   "cell_type": "code",
   "execution_count": null,
   "metadata": {},
   "outputs": [],
   "source": [
    "df_accidents.shape"
   ]
  },
  {
   "cell_type": "code",
   "execution_count": null,
   "metadata": {
    "scrolled": false
   },
   "outputs": [],
   "source": [
    "df_accidents.head(2)"
   ]
  },
  {
   "cell_type": "code",
   "execution_count": null,
   "metadata": {},
   "outputs": [],
   "source": [
    "#convert to pd datetime and create 'date' column\n",
    "df_accidents['date'] = pd.to_datetime(df_accidents['DT_DAY'])\n",
    "df_accidents = df_accidents.drop('DT_DAY',axis=1)"
   ]
  },
  {
   "cell_type": "code",
   "execution_count": null,
   "metadata": {},
   "outputs": [],
   "source": [
    "#add month column\n",
    "df_accidents['month'] = df_accidents['date'].apply(lambda date: date.month)"
   ]
  },
  {
   "cell_type": "code",
   "execution_count": null,
   "metadata": {},
   "outputs": [],
   "source": [
    "#add year column\n",
    "df_accidents['year'] = df_accidents['date'].apply(lambda date: date.year)"
   ]
  },
  {
   "cell_type": "code",
   "execution_count": null,
   "metadata": {},
   "outputs": [],
   "source": [
    "#add quarter \n",
    "df_accidents['quarter'] = df_accidents['date'].apply(lambda date: date.quarter)"
   ]
  },
  {
   "cell_type": "code",
   "execution_count": null,
   "metadata": {},
   "outputs": [],
   "source": [
    "df_accidents.columns"
   ]
  },
  {
   "cell_type": "code",
   "execution_count": null,
   "metadata": {},
   "outputs": [],
   "source": [
    "#change column names 'DT_HOUR', 'CD_DAY_OF_WEEK' to 'hour', 'dow'\n",
    "df_accidents.columns = ['hour', 'dow', 'TX_DAY_OF_WEEK_DESCR_NL',\n",
    "       'CD_BUILD_UP_AREA', 'TX_BUILD_UP_AREA_DESCR_NL', 'CD_COLL_TYPE',\n",
    "       'TX_COLL_TYPE_DESCR_NL', 'CD_LIGHT_COND', 'TX_LIGHT_COND_DESCR_NL',\n",
    "       'CD_ROAD_TYPE', 'TX_ROAD_TYPE_DESCR_NL', 'CD_MUNTY_REFNIS',\n",
    "       'TX_MUNTY_DESCR_NL', 'CD_DSTR_REFNIS', 'TX_ADM_DSTR_DESCR_NL',\n",
    "       'CD_PROV_REFNIS', 'TX_PROV_DESCR_NL', 'CD_RGN_REFNIS',\n",
    "       'TX_RGN_DESCR_NL', 'MS_ACCT', 'MS_ACCT_WITH_DEAD',\n",
    "       'MS_ACCT_WITH_DEAD_30_DAYS', 'MS_ACCT_WITH_MORY_INJ',\n",
    "       'MS_ACCT_WITH_SERLY_INJ', 'MS_ACCT_WITH_SLY_INJ', 'date', 'month',\n",
    "       'year', 'quarter']"
   ]
  },
  {
   "cell_type": "code",
   "execution_count": null,
   "metadata": {
    "scrolled": true
   },
   "outputs": [],
   "source": [
    "df_accidents.columns"
   ]
  },
  {
   "cell_type": "code",
   "execution_count": null,
   "metadata": {},
   "outputs": [],
   "source": [
    "#double info? \n",
    "#(data available in both text form and numerical form)\n",
    "df_accidents.head()"
   ]
  },
  {
   "cell_type": "code",
   "execution_count": null,
   "metadata": {},
   "outputs": [],
   "source": [
    "df_accidents['dayow'] = df_accidents['dow']\n",
    "df_accidents = df_accidents.drop('dow',axis=1)"
   ]
  },
  {
   "cell_type": "code",
   "execution_count": null,
   "metadata": {},
   "outputs": [],
   "source": [
    "df_accidents['hr'] = df_accidents['hour']\n",
    "df_accidents = df_accidents.drop('hour',axis=1)"
   ]
  },
  {
   "cell_type": "code",
   "execution_count": null,
   "metadata": {
    "scrolled": true
   },
   "outputs": [],
   "source": [
    "df_accidents.head()"
   ]
  },
  {
   "cell_type": "code",
   "execution_count": null,
   "metadata": {},
   "outputs": [],
   "source": [
    "df_accidents = df_accidents.drop('date',axis=1)"
   ]
  },
  {
   "cell_type": "code",
   "execution_count": null,
   "metadata": {},
   "outputs": [],
   "source": [
    "# TX_DAY_OF_WEEK_DESCR_NL = dow(numerical)\n",
    "df_accidents = df_accidents.drop('TX_DAY_OF_WEEK_DESCR_NL',axis=1)"
   ]
  },
  {
   "cell_type": "code",
   "execution_count": null,
   "metadata": {},
   "outputs": [],
   "source": [
    "df_accidents['TX_BUILD_UP_AREA_DESCR_NL'].value_counts()"
   ]
  },
  {
   "cell_type": "code",
   "execution_count": null,
   "metadata": {},
   "outputs": [],
   "source": [
    "df_accidents['CD_BUILD_UP_AREA'].value_counts()"
   ]
  },
  {
   "cell_type": "code",
   "execution_count": null,
   "metadata": {},
   "outputs": [],
   "source": [
    "#where did \"not available\" (Niet beschikbaar) go?"
   ]
  },
  {
   "cell_type": "code",
   "execution_count": null,
   "metadata": {},
   "outputs": [],
   "source": [
    "df_accidents['CD_BUILD_UP_AREA'].isnull().sum()"
   ]
  },
  {
   "cell_type": "code",
   "execution_count": null,
   "metadata": {},
   "outputs": [],
   "source": [
    "#replace nan's with 3.0\n",
    "df_accidents[\"CD_BUILD_UP_AREA\"].fillna(3.0, inplace = True) "
   ]
  },
  {
   "cell_type": "code",
   "execution_count": null,
   "metadata": {},
   "outputs": [],
   "source": [
    "df_accidents['CD_BUILD_UP_AREA'].value_counts()\n",
    "\n",
    "#1.0 = Binnen bebouwde kom (in residential area)\n",
    "#2.0 = Buiten bebouwde kom (outside built-up areas)\n",
    "#3.0 = Niet beschikbaar (not available)\n"
   ]
  },
  {
   "cell_type": "code",
   "execution_count": null,
   "metadata": {},
   "outputs": [],
   "source": [
    "#remove text column \n",
    "df_accidents = df_accidents.drop('TX_BUILD_UP_AREA_DESCR_NL',axis=1)"
   ]
  },
  {
   "cell_type": "code",
   "execution_count": null,
   "metadata": {},
   "outputs": [],
   "source": [
    "df_accidents.head(4)"
   ]
  },
  {
   "cell_type": "code",
   "execution_count": null,
   "metadata": {},
   "outputs": [],
   "source": [
    "df_accidents['CD_COLL_TYPE'].value_counts()"
   ]
  },
  {
   "cell_type": "code",
   "execution_count": null,
   "metadata": {},
   "outputs": [],
   "source": [
    "df_accidents['TX_COLL_TYPE_DESCR_NL'].value_counts()"
   ]
  },
  {
   "cell_type": "code",
   "execution_count": null,
   "metadata": {},
   "outputs": [],
   "source": [
    "# 1.0 = Kettingbotsing (4 bestuurders of meer)      5637\n",
    "# 2.0 = Frontale botsing (of bij het kruisen)      58302\n",
    "# 3.0 = Langs achteren (of naast elkaar)          107443\n",
    "# 4.0 = Langs opzij                               183703\n",
    "# 5.0 = Met een voetganger                         53409\n",
    "# 6.0 = Tegen een hindernis op de rijbaan          14049\n",
    "# 7.0 = Tegen een hindernis buiten de rijbaan      85647"
   ]
  },
  {
   "cell_type": "code",
   "execution_count": null,
   "metadata": {},
   "outputs": [],
   "source": [
    "#remove text column \n",
    "df_accidents = df_accidents.drop('TX_COLL_TYPE_DESCR_NL',axis=1)"
   ]
  },
  {
   "cell_type": "code",
   "execution_count": null,
   "metadata": {},
   "outputs": [],
   "source": [
    "df_accidents.head(4)"
   ]
  },
  {
   "cell_type": "code",
   "execution_count": null,
   "metadata": {},
   "outputs": [],
   "source": [
    "df_accidents['TX_LIGHT_COND_DESCR_NL'].value_counts()"
   ]
  },
  {
   "cell_type": "code",
   "execution_count": null,
   "metadata": {},
   "outputs": [],
   "source": [
    "df_accidents['CD_LIGHT_COND'].value_counts()"
   ]
  },
  {
   "cell_type": "code",
   "execution_count": null,
   "metadata": {},
   "outputs": [],
   "source": [
    "#5.0 is missing \"not available\" (Niet beschikbaar) "
   ]
  },
  {
   "cell_type": "code",
   "execution_count": null,
   "metadata": {},
   "outputs": [],
   "source": [
    "#replace nan's with 5.0\n",
    "df_accidents['CD_LIGHT_COND'].fillna(5.0, inplace = True) "
   ]
  },
  {
   "cell_type": "code",
   "execution_count": null,
   "metadata": {},
   "outputs": [],
   "source": [
    "df_accidents['CD_LIGHT_COND'].value_counts()"
   ]
  },
  {
   "cell_type": "code",
   "execution_count": null,
   "metadata": {},
   "outputs": [],
   "source": [
    "# Bij klaarlichte dag                      398885\n",
    "# Nacht, ontstoken openbare verlichting    126694\n",
    "# Niet beschikbaar                          48992\n",
    "# Dageraad - schemering                     27415\n",
    "# Nacht, geen openbare verlichting          15986\n",
    "\n",
    "# 1.0    398885\n",
    "# 3.0    126694\n",
    "# 5.0     48992\n",
    "# 2.0     27415\n",
    "# 4.0     15986"
   ]
  },
  {
   "cell_type": "code",
   "execution_count": null,
   "metadata": {},
   "outputs": [],
   "source": [
    "#remove text column \n",
    "df_accidents = df_accidents.drop('TX_LIGHT_COND_DESCR_NL',axis=1)"
   ]
  },
  {
   "cell_type": "code",
   "execution_count": null,
   "metadata": {},
   "outputs": [],
   "source": [
    "df_accidents.head(2)"
   ]
  },
  {
   "cell_type": "code",
   "execution_count": null,
   "metadata": {},
   "outputs": [],
   "source": [
    "df_accidents['TX_ROAD_TYPE_DESCR_NL'].value_counts()"
   ]
  },
  {
   "cell_type": "code",
   "execution_count": null,
   "metadata": {},
   "outputs": [],
   "source": [
    "df_accidents['CD_ROAD_TYPE'].value_counts()"
   ]
  },
  {
   "cell_type": "code",
   "execution_count": null,
   "metadata": {},
   "outputs": [],
   "source": [
    "#3.0 is missing \"unknown\" (Onbekend) "
   ]
  },
  {
   "cell_type": "code",
   "execution_count": null,
   "metadata": {},
   "outputs": [],
   "source": [
    "#replace nan's with 3.0\n",
    "df_accidents['CD_ROAD_TYPE'].fillna(3.0, inplace = True) "
   ]
  },
  {
   "cell_type": "code",
   "execution_count": null,
   "metadata": {},
   "outputs": [],
   "source": [
    "df_accidents['CD_ROAD_TYPE'].value_counts()"
   ]
  },
  {
   "cell_type": "code",
   "execution_count": null,
   "metadata": {},
   "outputs": [],
   "source": [
    "# Gewestweg, provincieweg of gemeenteweg    562714\n",
    "# Autosnelweg                                49269\n",
    "# Onbekend                                    5989\n",
    "\n",
    "# 2.0    562714\n",
    "# 1.0     49269\n",
    "# 3.0      5989"
   ]
  },
  {
   "cell_type": "code",
   "execution_count": null,
   "metadata": {},
   "outputs": [],
   "source": [
    "#remove text column \n",
    "df_accidents = df_accidents.drop('TX_ROAD_TYPE_DESCR_NL',axis=1)"
   ]
  },
  {
   "cell_type": "code",
   "execution_count": null,
   "metadata": {},
   "outputs": [],
   "source": [
    "df_accidents.head(2)"
   ]
  },
  {
   "cell_type": "code",
   "execution_count": null,
   "metadata": {
    "scrolled": true
   },
   "outputs": [],
   "source": [
    "df_accidents['CD_MUNTY_REFNIS'].value_counts()"
   ]
  },
  {
   "cell_type": "code",
   "execution_count": null,
   "metadata": {},
   "outputs": [],
   "source": [
    "df_accidents['TX_MUNTY_DESCR_NL'].value_counts()"
   ]
  },
  {
   "cell_type": "code",
   "execution_count": null,
   "metadata": {},
   "outputs": [],
   "source": [
    "df_accidents[df_accidents['TX_MUNTY_DESCR_NL']=='Overpelt']"
   ]
  },
  {
   "cell_type": "markdown",
   "metadata": {},
   "source": [
    "Explore REFNIS\n",
    "\n",
    "https://en.wikipedia.org/wiki/Provinces_of_Belgium\n",
    "The country of Belgium is divided into three regions. Two of these regions, the Flemish Region or Flanders, and Walloon Region, or Wallonia, are each subdivided into five provinces. The third region, the Brussels-Capital Region, is not divided into provinces, as it was originally only a small part of a province itself. \n",
    "\n",
    "https://nl.wikipedia.org/wiki/NIS-code\n",
    "De NIS-code (Frans: code INS) is een alfanumerieke code voor geografische gebieden die toegepast wordt voor statistische verwerkingen in België. Deze code werd in het midden van de jaren 60 ontwikkeld door het Nationaal Instituut voor de Statistiek (NIS) (nu Statbel).\n",
    "\n",
    "\n",
    "https://statbel.fgov.be/nl/open-data/refnis-code\n",
    "België is ingedeeld volgens een hiërarchisch systeem dat de Fransen in 1796 ingevoerd hebben. De administratieve indeling gebeurt aan de hand van vier territoriale eenheden: gewesten, provincies, bestuurlijke arrondissementen en gemeenten. De gemeenten zijn de basis-eenheden, dit wil zeggen dat elke territoriale eenheid op een hoger niveau uit verschillende gemeenten bestaat.\n",
    "Structuur\n",
    "\n",
    "    Level 1: 3 gewesten\n",
    "    Level 2: 10 provincies\n",
    "    Level 3: 43 bestuurlijke arrondissementen\n",
    "    Level 4: 581 gemeenten (589 tot 31/12/2018) --- sanity check: length of CD_MUNTY_REFNIS also 589\n",
    "    Level 5: Deelgemeenten\n",
    "    Level 7: Statistische sectoren\n",
    "\n",
    "https://nl.wikipedia.org/wiki/Arrondissement\n",
    "Een arrondissement is een onderdeel van het grondgebied van de staat, dat wordt opgedeeld om administratieve of bestuurlijke redenen. Elk arrondissement is een ambtsgebied van colleges en ambtenaren (werkzaam voor een overheid). Het komt oorspronkelijk uit het Frans en betekent letterlijk afronding. \n",
    "\n",
    "https://nl.wikipedia.org/wiki/Deelgemeente_(Belgi%C3%AB)\n",
    "Een deelgemeente is in België het grondgebied van de voormalige gemeenten die vóór de grote gemeentelijke herindelingen in de jaren 1960-'70 nog zelfstandig waren"
   ]
  },
  {
   "cell_type": "code",
   "execution_count": null,
   "metadata": {},
   "outputs": [],
   "source": [
    "#Found REFNIS file on https://statbel.fgov.be/nl/over-statbel/methodologie/classificaties/geografie"
   ]
  },
  {
   "cell_type": "code",
   "execution_count": null,
   "metadata": {},
   "outputs": [],
   "source": [
    "os.chdir('C:\\\\Users\\\\Robin Luyck\\\\Documents\\\\data\\\\road_accidents_Belgium_2010_2018_local\\\\Geoplot')"
   ]
  },
  {
   "cell_type": "code",
   "execution_count": null,
   "metadata": {},
   "outputs": [],
   "source": [
    "os.getcwd()"
   ]
  },
  {
   "cell_type": "code",
   "execution_count": null,
   "metadata": {},
   "outputs": [],
   "source": [
    "df_refnis = pd.read_excel('refnis.xlsx')"
   ]
  },
  {
   "cell_type": "code",
   "execution_count": null,
   "metadata": {},
   "outputs": [],
   "source": [
    "#df_refnis"
   ]
  },
  {
   "cell_type": "code",
   "execution_count": null,
   "metadata": {},
   "outputs": [],
   "source": [
    "#remove french columns\n",
    "df_refnis = df_refnis.drop(['Code INS','Entités administratives','Langue'], axis=1)"
   ]
  },
  {
   "cell_type": "code",
   "execution_count": null,
   "metadata": {},
   "outputs": [],
   "source": [
    "df_refnis"
   ]
  },
  {
   "cell_type": "markdown",
   "metadata": {},
   "source": [
    "how to plot a map?\n",
    "\n",
    "Geopandas:\n",
    "https://towardsdatascience.com/lets-make-a-map-using-geopandas-pandas-and-matplotlib-to-make-a-chloropleth-map-dddc31c1983d\n",
    "\n",
    "Sources:\n",
    "\n",
    "1) http://www.geopunt.be/download?container=referentiebestand-gemeenten&title=Voorlopig%20referentiebestand%20gemeentegrenzen# (shapefiles of only Flanders)\n",
    "\n",
    "\n",
    "2) https://www.geo.be/#!/catalog/details/9738c7c0-5255-11ea-8895-34e12d0f0423?l=nl (postal codes of Belgium)\n",
    "\n",
    "\n",
    "3) https://www.eea.europa.eu/data-and-maps/data/eea-reference-grids-2/gis-files/belgium-shapefile\n",
    "\n",
    "4) https://hub.arcgis.com/datasets/esribeluxdata::belgium-municipalities\n",
    "\n",
    "\n"
   ]
  },
  {
   "cell_type": "code",
   "execution_count": null,
   "metadata": {},
   "outputs": [],
   "source": [
    "import geopandas as gpd"
   ]
  },
  {
   "cell_type": "code",
   "execution_count": null,
   "metadata": {},
   "outputs": [],
   "source": [
    "#Explore source 1)\n",
    "\n",
    "# set the filepath and load in a shapefile\n",
    "#gewesten\n",
    "gew = \"C:\\\\Users\\\\Robin Luyck\\\\Documents\\\\data\\\\road_accidents_Belgium_2010_2018_local\\\\Geoplot\\\\Shapefiles\\\\GewVLA_Shape\\\\Shapefile\\\\Refgew.shp\"\n",
    "#provincies\n",
    "prv = \"C:\\\\Users\\\\Robin Luyck\\\\Documents\\\\data\\\\road_accidents_Belgium_2010_2018_local\\\\Geoplot\\\\Shapefiles\\\\GewVLA_Shape\\\\Shapefile\\\\Refprv.shp\"\n",
    "#gemeentes\n",
    "gem = \"C:\\\\Users\\\\Robin Luyck\\\\Documents\\\\data\\\\road_accidents_Belgium_2010_2018_local\\\\Geoplot\\\\Shapefiles\\\\GewVLA_Shape\\\\Shapefile\\\\Refgem.shp\"\n",
    "#rarrondisementen\n",
    "arr = \"C:\\\\Users\\\\Robin Luyck\\\\Documents\\\\data\\\\road_accidents_Belgium_2010_2018_local\\\\Geoplot\\\\Shapefiles\\\\GewVLA_Shape\\\\Shapefile\\\\Refarr.shp\""
   ]
  },
  {
   "cell_type": "code",
   "execution_count": null,
   "metadata": {},
   "outputs": [],
   "source": [
    "map_gew = gpd.read_file(gew)\n",
    "map_prv = gpd.read_file(prv)\n",
    "map_gem = gpd.read_file(gem)\n",
    "map_arr = gpd.read_file(arr)"
   ]
  },
  {
   "cell_type": "code",
   "execution_count": null,
   "metadata": {},
   "outputs": [],
   "source": [
    "# check data type so we can see that this is not a normal dataframe, but a GEOdataframe\n",
    "# had to install descartes in anaconda environment to make this work\n",
    "\n",
    "map_gew.head() "
   ]
  },
  {
   "cell_type": "code",
   "execution_count": null,
   "metadata": {},
   "outputs": [],
   "source": [
    "map_prv.head(5) "
   ]
  },
  {
   "cell_type": "code",
   "execution_count": null,
   "metadata": {},
   "outputs": [],
   "source": [
    "map_gem.head(4) "
   ]
  },
  {
   "cell_type": "code",
   "execution_count": null,
   "metadata": {},
   "outputs": [],
   "source": [
    "map_arr.head() "
   ]
  },
  {
   "cell_type": "code",
   "execution_count": null,
   "metadata": {},
   "outputs": [],
   "source": [
    "len(map_gew['NISCODE'])"
   ]
  },
  {
   "cell_type": "code",
   "execution_count": null,
   "metadata": {},
   "outputs": [],
   "source": [
    "len(map_prv['NISCODE'])"
   ]
  },
  {
   "cell_type": "code",
   "execution_count": null,
   "metadata": {},
   "outputs": [],
   "source": [
    "len(map_gem['NISCODE']) #300 municipalities in Flanders"
   ]
  },
  {
   "cell_type": "code",
   "execution_count": null,
   "metadata": {},
   "outputs": [],
   "source": [
    "len(map_arr['NISCODE'])"
   ]
  },
  {
   "cell_type": "code",
   "execution_count": null,
   "metadata": {},
   "outputs": [],
   "source": [
    "# Create four polar axes and access them through the returned array\n",
    "fig, (ax1, ax2, ax3, ax4) = plt.subplots(4, figsize=(20,22))\n",
    "ax1 = map_gew.plot(linewidth=0.8, ax=ax1, edgecolor='0.8')\n",
    "ax2 = map_prv.plot(linewidth=0.8, ax=ax2, edgecolor='0.8')\n",
    "ax3 = map_gem.plot(linewidth=0.8, ax=ax3, edgecolor='0.8')\n",
    "ax4 = map_arr.plot(linewidth=0.8, ax=ax4, edgecolor='0.8')"
   ]
  },
  {
   "cell_type": "code",
   "execution_count": null,
   "metadata": {},
   "outputs": [],
   "source": [
    "#Explore source 2)\n",
    "\n",
    "# set the filepath and load in a shapefile\n",
    "\n",
    "postal_code = \"C:\\\\Users\\\\Robin Luyck\\\\Documents\\\\data\\\\road_accidents_Belgium_2010_2018_local\\\\Geoplot\\\\Geodotbe\\\\3812\\\\postaldistricts.shp\"\n",
    "\n",
    "#b and c are the same imo\n",
    "#b = \"C:\\\\Users\\\\Robin Luyck\\\\Documents\\\\data\\\\road_accidents_Belgium_2010_2018_local\\\\Geoplot\\\\Geodotbe\\\\4326\\\\postaldistricts.shp\"\n",
    "#c = \"C:\\\\Users\\\\Robin Luyck\\\\Documents\\\\data\\\\road_accidents_Belgium_2010_2018_local\\\\Geoplot\\\\Geodotbe\\\\31370\\\\postaldistricts.shp\""
   ]
  },
  {
   "cell_type": "code",
   "execution_count": null,
   "metadata": {
    "scrolled": true
   },
   "outputs": [],
   "source": [
    "map_postal_code = gpd.read_file(postal_code)"
   ]
  },
  {
   "cell_type": "code",
   "execution_count": null,
   "metadata": {},
   "outputs": [],
   "source": [
    "map_postal_code.head()"
   ]
  },
  {
   "cell_type": "code",
   "execution_count": null,
   "metadata": {},
   "outputs": [],
   "source": [
    "map_postal_code['nouveau_PO'].value_counts()"
   ]
  },
  {
   "cell_type": "code",
   "execution_count": null,
   "metadata": {},
   "outputs": [],
   "source": [
    "fig, ax = plt.subplots(1, figsize=(15, 15))\n",
    "map_postal_code.plot(ax=ax)"
   ]
  },
  {
   "cell_type": "code",
   "execution_count": null,
   "metadata": {},
   "outputs": [],
   "source": [
    "#Explore source 3)\n",
    "\n",
    "eea = \"C:\\\\Users\\\\Robin Luyck\\\\Documents\\\\data\\\\road_accidents_Belgium_2010_2018_local\\\\Geoplot\\\\Eea\\\\be_10km.shp\""
   ]
  },
  {
   "cell_type": "code",
   "execution_count": null,
   "metadata": {},
   "outputs": [],
   "source": [
    "map_eea = gpd.read_file(eea)"
   ]
  },
  {
   "cell_type": "code",
   "execution_count": null,
   "metadata": {},
   "outputs": [],
   "source": [
    "fig, ax = plt.subplots(1, figsize=(15, 15))\n",
    "map_eea.plot(ax=ax)"
   ]
  },
  {
   "cell_type": "code",
   "execution_count": null,
   "metadata": {},
   "outputs": [],
   "source": [
    "#Explore source 4)\n",
    "\n",
    "arcgis_mun = \"C:\\\\Users\\\\Robin Luyck\\\\Documents\\\\data\\\\road_accidents_Belgium_2010_2018_local\\\\Geoplot\\\\Arcgis\\\\municipalities\\\\bemun.shp\"\n",
    "arcgis_prov = \"C:\\\\Users\\\\Robin Luyck\\\\Documents\\\\data\\\\road_accidents_Belgium_2010_2018_local\\\\Geoplot\\\\Arcgis\\\\provinces\\\\provinces.shp\"\n"
   ]
  },
  {
   "cell_type": "code",
   "execution_count": null,
   "metadata": {},
   "outputs": [],
   "source": [
    "map_arcgis_mun = gpd.read_file(arcgis_mun)\n",
    "map_arcgis_prov = gpd.read_file(arcgis_prov)"
   ]
  },
  {
   "cell_type": "code",
   "execution_count": null,
   "metadata": {
    "scrolled": false
   },
   "outputs": [],
   "source": [
    "map_arcgis_mun.head()"
   ]
  },
  {
   "cell_type": "code",
   "execution_count": null,
   "metadata": {},
   "outputs": [],
   "source": [
    "map_arcgis_prov.head()"
   ]
  },
  {
   "cell_type": "code",
   "execution_count": null,
   "metadata": {
    "scrolled": false
   },
   "outputs": [],
   "source": [
    "len(map_arcgis_mun['CODE_INS'])"
   ]
  },
  {
   "cell_type": "code",
   "execution_count": null,
   "metadata": {},
   "outputs": [],
   "source": [
    "len(map_arcgis_prov['NE_Name'])"
   ]
  },
  {
   "cell_type": "markdown",
   "metadata": {},
   "source": [
    "Nice! Arcgis got the geometry of all 589 municipalities in Belgium.\n",
    "So 4) it is."
   ]
  },
  {
   "cell_type": "code",
   "execution_count": null,
   "metadata": {},
   "outputs": [],
   "source": [
    "fig, ax = plt.subplots(1, figsize=(15,15))\n",
    "map_arcgis_mun.plot(ax=ax)"
   ]
  },
  {
   "cell_type": "code",
   "execution_count": null,
   "metadata": {},
   "outputs": [],
   "source": [
    "fig, ax = plt.subplots(1, figsize=(15,15))\n",
    "map_arcgis_prov.plot(ax=ax)"
   ]
  },
  {
   "cell_type": "code",
   "execution_count": null,
   "metadata": {},
   "outputs": [],
   "source": [
    "df_accidents.head()"
   ]
  },
  {
   "cell_type": "markdown",
   "metadata": {},
   "source": [
    "Now that we have the geoplot data for the REFNIS, let's remove the alpha representation"
   ]
  },
  {
   "cell_type": "code",
   "execution_count": null,
   "metadata": {},
   "outputs": [],
   "source": [
    "df_accidents = df_accidents.drop('TX_MUNTY_DESCR_NL',axis=1)"
   ]
  },
  {
   "cell_type": "code",
   "execution_count": null,
   "metadata": {},
   "outputs": [],
   "source": [
    "df_accidents.head()"
   ]
  },
  {
   "cell_type": "code",
   "execution_count": null,
   "metadata": {},
   "outputs": [],
   "source": [
    "df_accidents['CD_DSTR_REFNIS'].value_counts()"
   ]
  },
  {
   "cell_type": "code",
   "execution_count": null,
   "metadata": {},
   "outputs": [],
   "source": [
    "df_accidents['TX_ADM_DSTR_DESCR_NL'].value_counts()"
   ]
  },
  {
   "cell_type": "code",
   "execution_count": null,
   "metadata": {},
   "outputs": [],
   "source": [
    "# 11000    64214\n",
    "# 21000    53545\n",
    "# 44000    41015\n",
    "# 62000    31891\n",
    "# 23000    28897\n",
    "# 71000    27516\n",
    "# 13000    25591\n",
    "# 31000    23720\n",
    "# 24000    23497\n",
    "# 52000    21062\n",
    "# 46000    17965\n",
    "# 34000    17964\n",
    "# 12000    17604\n",
    "# 25000    17319\n",
    "# 41000    16649\n",
    "# 92000    15248\n",
    "# 63000    13843\n",
    "# 42000    12744\n",
    "# 72000    12615\n",
    "# 35000     9934\n",
    "# 73000     9858\n",
    "# 53000     9749\n",
    "# 36000     8707\n",
    "# 55000     8044\n",
    "# 57000     7511\n",
    "# 56000     6988\n",
    "# 45000     6880\n",
    "# 43000     6501\n",
    "# 33000     6172\n",
    "# 91000     6076\n",
    "# 61000     5659\n",
    "# 37000     4617\n",
    "# 38000     4519\n",
    "# 51000     4082\n",
    "# 93000     4079\n",
    "# 83000     3883\n",
    "# 84000     3819\n",
    "# 64000     3566\n",
    "# 54000     3444\n",
    "# 81000     2869\n",
    "# 32000     2854\n",
    "# 82000     2840\n",
    "# 85000     2422\n",
    "\n",
    "# Arrondissement Antwerpen            64214\n",
    "# Arrondissement Brussel-Hoofdstad    53545\n",
    "# Arrondissement Gent                 41015\n",
    "# Arrondissement Luik                 31891\n",
    "# Arrondissement Halle-Vilvoorde      28897\n",
    "# Arrondissement Hasselt              27516\n",
    "# Arrondissement Turnhout             25591\n",
    "# Arrondissement Brugge               23720\n",
    "# Arrondissement Leuven               23497\n",
    "# Arrondissement Charleroi            21062\n",
    "# Arrondissement Sint-Niklaas         17965\n",
    "# Arrondissement Kortrijk             17964\n",
    "# Arrondissement Mechelen             17604\n",
    "# Arrondissement Nijvel               17319\n",
    "# Arrondissement Aalst                16649\n",
    "# Arrondissement Namen                15248\n",
    "# Arrondissement Verviers             13843\n",
    "# Arrondissement Dendermonde          12744\n",
    "# Arrondissement Maaseik              12615\n",
    "# Arrondissement Oostende              9934\n",
    "# Arrondissement Tongeren              9858\n",
    "# Arrondissement Bergen                9749\n",
    "# Arrondissement Roeselare             8707\n",
    "# Arrondissement Zinnik                8044\n",
    "# Arrondissement Doornik               7511\n",
    "# Arrondissement Thuin                 6988\n",
    "# Arrondissement Oudenaarde            6880\n",
    "# Arrondissement Eeklo                 6501\n",
    "# Arrondissement Ieper                 6172\n",
    "# Arrondissement Dinant                6076\n",
    "# Arrondissement Hoei                  5659\n",
    "# Arrondissement Tielt                 4617\n",
    "# Arrondissement Veurne                4519\n",
    "# Arrondissement Aat                   4082\n",
    "# Arrondissement Philippeville         4079\n",
    "# Arrondissement Marche-en-Famenne     3883\n",
    "# Arrondissement Neufchâteau           3819\n",
    "# Arrondissement Borgworm              3566\n",
    "# Arrondissement Moeskroen             3444\n",
    "# Arrondissement Aarlen                2869\n",
    "# Arrondissement Diksmuide             2854\n",
    "# Arrondissement Bastenaken            2840\n",
    "# Arrondissement Virton                2422"
   ]
  },
  {
   "cell_type": "code",
   "execution_count": null,
   "metadata": {},
   "outputs": [],
   "source": [
    "df_accidents = df_accidents.drop('TX_ADM_DSTR_DESCR_NL',axis=1)"
   ]
  },
  {
   "cell_type": "code",
   "execution_count": null,
   "metadata": {},
   "outputs": [],
   "source": [
    "df_accidents.head()"
   ]
  },
  {
   "cell_type": "code",
   "execution_count": null,
   "metadata": {},
   "outputs": [],
   "source": [
    "df_accidents = df_accidents.drop('TX_PROV_DESCR_NL',axis=1)"
   ]
  },
  {
   "cell_type": "code",
   "execution_count": null,
   "metadata": {
    "scrolled": true
   },
   "outputs": [],
   "source": [
    "df_accidents.head()"
   ]
  },
  {
   "cell_type": "code",
   "execution_count": null,
   "metadata": {},
   "outputs": [],
   "source": [
    "df_accidents['CD_DSTR_REFNIS'].value_counts()"
   ]
  },
  {
   "cell_type": "code",
   "execution_count": null,
   "metadata": {
    "scrolled": true
   },
   "outputs": [],
   "source": [
    "df_accidents['TX_RGN_DESCR_NL'].value_counts()"
   ]
  },
  {
   "cell_type": "code",
   "execution_count": null,
   "metadata": {},
   "outputs": [],
   "source": [
    "# 2000    390033\n",
    "# 3000    174394\n",
    "# 4000     53545\n",
    "# Vlaams Gewest                     390033\n",
    "# Waals Gewest                      174394\n",
    "# Brussels Hoofdstedelijk Gewest     53545"
   ]
  },
  {
   "cell_type": "code",
   "execution_count": null,
   "metadata": {},
   "outputs": [],
   "source": [
    "df_accidents = df_accidents.drop('TX_RGN_DESCR_NL',axis=1)"
   ]
  },
  {
   "cell_type": "code",
   "execution_count": null,
   "metadata": {
    "scrolled": true
   },
   "outputs": [],
   "source": [
    "df_accidents.head()"
   ]
  },
  {
   "cell_type": "code",
   "execution_count": null,
   "metadata": {},
   "outputs": [],
   "source": [
    "df_accidents['MS_ACCT'].value_counts()"
   ]
  },
  {
   "cell_type": "code",
   "execution_count": null,
   "metadata": {},
   "outputs": [],
   "source": [
    "#rename the column names\n",
    "\n",
    "#CD_BUILD_UP_AREA = where\n",
    "\n",
    "#1.0 = Binnen bebouwde kom (in residential area)\n",
    "#2.0 = Buiten bebouwde kom (outside built-up areas)\n",
    "#3.0 = Niet beschikbaar (not available)\n",
    "\n",
    "#CD_COLL_TYPE = how\n",
    "\n",
    "#CD_ROAD_TYPE = roadtype\n",
    "\n",
    "# Gewestweg, provincieweg of gemeenteweg    562714\n",
    "# Autosnelweg                                49269\n",
    "# Onbekend                                    5989\n",
    "\n",
    "df_accidents = df_accidents.rename(index=str, columns={'CD_BUILD_UP_AREA':'where',\n",
    "                                                      'CD_COLL_TYPE':'how',\n",
    "                                                      'CD_ROAD_TYPE':'typeofroad',\n",
    "                                                      'CD_MUNTY_REFNIS':'refnismun',\n",
    "                                                      'CD_DSTR_REFNIS':'refnisdist',\n",
    "                                                      'CD_PROV_REFNIS':'refnisprov',\n",
    "                                                      'CD_RGN_REFNIS':'refnisgew',\n",
    "                                                      'CD_LIGHT_COND':'illumination',\n",
    "                                                      'MS_ACCT_WITH_DEAD':'dead',\n",
    "                                                      'MS_ACCT_WITH_DEAD_30_DAYS':'deadafter30d',\n",
    "                                                      'MS_ACCT_WITH_MORY_INJ':'mortallyinjured',\n",
    "                                                      'MS_ACCT_WITH_SERLY_INJ':'severelyinjured',\n",
    "                                                      'MS_ACCT_WITH_SLY_INJ':'slightlyinjured',})"
   ]
  },
  {
   "cell_type": "code",
   "execution_count": null,
   "metadata": {},
   "outputs": [],
   "source": [
    "df_accidents.head()"
   ]
  },
  {
   "cell_type": "code",
   "execution_count": null,
   "metadata": {},
   "outputs": [],
   "source": [
    "df_accidents = df_accidents.drop('MS_ACCT',axis=1)"
   ]
  },
  {
   "cell_type": "code",
   "execution_count": null,
   "metadata": {},
   "outputs": [],
   "source": [
    "df_accidents.head()"
   ]
  },
  {
   "cell_type": "markdown",
   "metadata": {},
   "source": [
    "EDA: Exploratory data analysis"
   ]
  },
  {
   "cell_type": "code",
   "execution_count": null,
   "metadata": {},
   "outputs": [],
   "source": [
    "%%time\n",
    "#sns.pairplot(df_accidents)"
   ]
  },
  {
   "cell_type": "code",
   "execution_count": null,
   "metadata": {},
   "outputs": [],
   "source": [
    "df_accidents.columns"
   ]
  },
  {
   "cell_type": "code",
   "execution_count": null,
   "metadata": {},
   "outputs": [],
   "source": [
    "df_reduced = df_accidents[['refnismun','dead']]"
   ]
  },
  {
   "cell_type": "code",
   "execution_count": null,
   "metadata": {},
   "outputs": [],
   "source": [
    "df_reduced = df_reduced.groupby(['refnismun']).sum()"
   ]
  },
  {
   "cell_type": "code",
   "execution_count": null,
   "metadata": {
    "scrolled": true
   },
   "outputs": [],
   "source": [
    "df_reduced.head(10)"
   ]
  },
  {
   "cell_type": "code",
   "execution_count": null,
   "metadata": {},
   "outputs": [],
   "source": [
    "df_reduced.reset_index(level=0, inplace=True)"
   ]
  },
  {
   "cell_type": "code",
   "execution_count": null,
   "metadata": {
    "scrolled": true
   },
   "outputs": [],
   "source": [
    "df_reduced.head(10)"
   ]
  },
  {
   "cell_type": "code",
   "execution_count": null,
   "metadata": {},
   "outputs": [],
   "source": [
    "df_reduced.nunique()"
   ]
  },
  {
   "cell_type": "code",
   "execution_count": null,
   "metadata": {},
   "outputs": [],
   "source": [
    "map_arcgis_mun.head()"
   ]
  },
  {
   "cell_type": "code",
   "execution_count": null,
   "metadata": {},
   "outputs": [],
   "source": [
    "map_arcgis_mun = map_arcgis_mun.drop(['OBJECTID','ADMUNAFR','ADMUNADU','ADMUNAGE','Communes','arrond'],axis=1)"
   ]
  },
  {
   "cell_type": "code",
   "execution_count": null,
   "metadata": {
    "scrolled": true
   },
   "outputs": [],
   "source": [
    "map_arcgis_mun.head(5)"
   ]
  },
  {
   "cell_type": "code",
   "execution_count": null,
   "metadata": {},
   "outputs": [],
   "source": [
    "type(map_arcgis_mun['CODE_INS'].iloc[0])"
   ]
  },
  {
   "cell_type": "code",
   "execution_count": null,
   "metadata": {},
   "outputs": [],
   "source": [
    "map_arcgis_mun['CODE_INS']=map_arcgis_mun['CODE_INS'].astype(int)"
   ]
  },
  {
   "cell_type": "code",
   "execution_count": null,
   "metadata": {},
   "outputs": [],
   "source": [
    "map_arcgis_mun.nunique()"
   ]
  },
  {
   "cell_type": "code",
   "execution_count": null,
   "metadata": {
    "scrolled": true
   },
   "outputs": [],
   "source": [
    "df_reduced.head(5)"
   ]
  },
  {
   "cell_type": "code",
   "execution_count": null,
   "metadata": {},
   "outputs": [],
   "source": [
    "df_reduced = df_reduced.rename(columns={'refnismun':'CODE_INS'})"
   ]
  },
  {
   "cell_type": "code",
   "execution_count": null,
   "metadata": {},
   "outputs": [],
   "source": [
    "df_reduced.head(5)"
   ]
  },
  {
   "cell_type": "code",
   "execution_count": null,
   "metadata": {},
   "outputs": [],
   "source": [
    "type(df_reduced['CODE_INS'].iloc[0])"
   ]
  },
  {
   "cell_type": "code",
   "execution_count": null,
   "metadata": {
    "scrolled": true
   },
   "outputs": [],
   "source": [
    "# join the geodataframe with the cleaned up csv dataframe\n",
    "# merged = map_arcgis_mun.set_index('CODE_INS').join(df_reduced.set_index('CODE_INS'))\n",
    "merged = pd.merge(map_arcgis_mun, df_reduced, on='CODE_INS')\n",
    "merged.head()\n",
    "\n"
   ]
  },
  {
   "cell_type": "code",
   "execution_count": null,
   "metadata": {},
   "outputs": [],
   "source": [
    "# set a variable that will call whatever column we want to visualise on the map\n",
    "variable = 'dead'\n",
    "\n",
    "# set the range for the choropleth\n",
    "vmin, vmax = 0, 220\n",
    "\n",
    "# create figure and axes for Matplotlib\n",
    "fig, ax = plt.subplots(1,figsize=(20, 20)) #,figsize=(15, 15)\n",
    "\n",
    "# create map\n",
    "merged.plot(column=variable, cmap='Blues', linewidth=0.8, ax=ax, edgecolor='0.8',figsize=(15,15))\n",
    "\n",
    "# Now we can customise and add annotations\n",
    "\n",
    "# remove the axis\n",
    "ax.axis('off')\n",
    "\n",
    "# add a title\n",
    "ax.set_title('Total deads per municipal Belgium 2005-2018', \\\n",
    "              fontdict={'fontsize': '20',\n",
    "                        'fontweight' : '2'})\n",
    "\n",
    "# create an annotation for the  data source\n",
    "ax.annotate('Source:  https://statbel.fgov.be/en/open-data',\n",
    "           xy=(0.15, .08), xycoords='figure fraction',\n",
    "           horizontalalignment='left', verticalalignment='top',\n",
    "           fontsize=12, color='#555555')\n",
    "\n",
    "# Create colorbar as a legend\n",
    "sm = plt.cm.ScalarMappable(cmap='Blues', norm=plt.Normalize(vmin=vmin, vmax=vmax))\n",
    "sm._A = []\n",
    "cbar = fig.colorbar(sm)\n",
    "\n",
    "# this will save the figure as a high-res png. you can also save as svg\n",
    "#fig.savefig('BE_mun.png', dpi=300)"
   ]
  },
  {
   "cell_type": "code",
   "execution_count": null,
   "metadata": {},
   "outputs": [],
   "source": [
    "#create a plot per year\n",
    "#make a gif out of the plots to see the changing pattern"
   ]
  },
  {
   "cell_type": "code",
   "execution_count": null,
   "metadata": {},
   "outputs": [],
   "source": [
    "import gif #https://pypi.org/project/gif/"
   ]
  },
  {
   "cell_type": "code",
   "execution_count": null,
   "metadata": {},
   "outputs": [],
   "source": [
    "os.getcwd()\n",
    "os.chdir('C:\\\\Users\\\\Robin Luyck\\\\Documents\\\\data\\\\road_accidents_Belgium_2010_2018_local\\\\Saved_plots\\\\gif')\n",
    "os.getcwd()\n",
    "df_gif = df_accidents[['refnismun','dead','year']]\n",
    "df_gif = pd.DataFrame(df_gif.groupby(['year','refnismun'])['dead'].sum()).reset_index()"
   ]
  },
  {
   "cell_type": "code",
   "execution_count": null,
   "metadata": {},
   "outputs": [],
   "source": [
    "df_gif.columns=['year','CODE_INS','dead']"
   ]
  },
  {
   "cell_type": "code",
   "execution_count": null,
   "metadata": {
    "scrolled": true
   },
   "outputs": [],
   "source": [
    "df_gif.head()"
   ]
  },
  {
   "cell_type": "code",
   "execution_count": null,
   "metadata": {},
   "outputs": [],
   "source": [
    "type(df_gif['CODE_INS'].iloc[0])"
   ]
  },
  {
   "cell_type": "code",
   "execution_count": null,
   "metadata": {
    "scrolled": true
   },
   "outputs": [],
   "source": [
    "map_arcgis_mun.head()"
   ]
  },
  {
   "cell_type": "code",
   "execution_count": null,
   "metadata": {},
   "outputs": [],
   "source": [
    "map_arcgis_mun.shape"
   ]
  },
  {
   "cell_type": "code",
   "execution_count": null,
   "metadata": {},
   "outputs": [],
   "source": [
    "type(map_arcgis_mun['CODE_INS'].iloc[0])"
   ]
  },
  {
   "cell_type": "code",
   "execution_count": null,
   "metadata": {},
   "outputs": [],
   "source": [
    "merged_for_gif = pd.merge(map_arcgis_mun, df_gif, on='CODE_INS')"
   ]
  },
  {
   "cell_type": "code",
   "execution_count": null,
   "metadata": {
    "scrolled": true
   },
   "outputs": [],
   "source": [
    "merged_for_gif"
   ]
  },
  {
   "cell_type": "code",
   "execution_count": null,
   "metadata": {},
   "outputs": [],
   "source": [
    "merged_for_gif[merged_for_gif['year']==2005]"
   ]
  },
  {
   "cell_type": "code",
   "execution_count": null,
   "metadata": {},
   "outputs": [],
   "source": [
    "# #Decorate a Matplotlib plot function with gif.frame:\n",
    "\n",
    "@gif.frame\n",
    "def plot_year(year):\n",
    "    variable = 'dead'\n",
    "    vmin, vmax = 0, 220\n",
    "    fig, ax = plt.subplots(1,dpi=300) #figsize=(30, 30),\n",
    "    merged_for_gif[merged_for_gif['year']==year].plot(column=variable,cmap='Blues', linewidth=0.8, ax=ax, edgecolor='0.8')#,figsize=(30,30)\n",
    "    ax.axis('off')\n",
    "    ax.set_title('Death by road accident per Belgian municipalities in '+str(year),fontdict={'fontsize': '10','fontweight' : '2'})\n",
    "    ax.annotate('data source: https://statbel.fgov.be/en/open-data',\n",
    "           xy=(0.1, .08), xycoords='figure fraction',\n",
    "           horizontalalignment='left', verticalalignment='top',\n",
    "           fontsize=8, color='#555555')\n",
    "    sm = plt.cm.ScalarMappable(cmap='Blues', norm=plt.Normalize(vmin=vmin, vmax=vmax))\n",
    "    sm._A = []\n",
    "    cbar = fig.colorbar(sm)\n"
   ]
  },
  {
   "cell_type": "code",
   "execution_count": null,
   "metadata": {},
   "outputs": [],
   "source": [
    "# #Decorate a Matplotlib plot function with gif.frame:\n",
    "\n",
    "# @gif.frame\n",
    "# def plot_year(year):\n",
    "#     variable = 'dead'\n",
    "#     merged_for_gif[merged_for_gif['year']==year].plot(column=variable,cmap='Blues', linewidth=0.8, edgecolor='0.8')\n",
    "#     plt.title('Total deads per municipal Belgium '+str(year))\n",
    "#     plt.colorbar(cm.ScalarMappable(norm=norm, cmap=cmap), ax=ax)\n",
    "   "
   ]
  },
  {
   "cell_type": "code",
   "execution_count": null,
   "metadata": {
    "scrolled": true
   },
   "outputs": [],
   "source": [
    "yearyear = np.linspace(2005, 2018, num=14)\n",
    "yearyear=yearyear.astype(int)"
   ]
  },
  {
   "cell_type": "code",
   "execution_count": null,
   "metadata": {},
   "outputs": [],
   "source": [
    "yearyear"
   ]
  },
  {
   "cell_type": "code",
   "execution_count": null,
   "metadata": {},
   "outputs": [],
   "source": [
    "#Build a bunch of \"frames\" with a standard for loop:\n",
    "frames = []\n",
    "for _ in yearyear:\n",
    "    frame = plot_year(_)\n",
    "    frames.append(frame)\n",
    "    \n",
    "#Select the duration (milliseconds) between each frame and save\n",
    "gif.save(frames, \"accidents_over_time.gif\", duration=3000)"
   ]
  },
  {
   "cell_type": "code",
   "execution_count": null,
   "metadata": {},
   "outputs": [],
   "source": [
    "os.getcwd()"
   ]
  },
  {
   "cell_type": "code",
   "execution_count": null,
   "metadata": {},
   "outputs": [],
   "source": [
    "from IPython.display import Image"
   ]
  },
  {
   "cell_type": "code",
   "execution_count": null,
   "metadata": {},
   "outputs": [],
   "source": [
    "with open('C:\\\\Users\\\\Robin Luyck\\\\Documents\\\\data\\\\road_accidents_Belgium_2010_2018_local\\\\Saved_plots\\\\gif\\\\accidents_over_time.gif','rb') as f:\n",
    "    display(Image(data=f.read(), format='png'))"
   ]
  },
  {
   "cell_type": "code",
   "execution_count": null,
   "metadata": {
    "scrolled": true
   },
   "outputs": [],
   "source": [
    "df_reduced.head()"
   ]
  },
  {
   "cell_type": "code",
   "execution_count": null,
   "metadata": {},
   "outputs": [],
   "source": [
    "df_accidents[df_accidents['dead']==1]['refnismun'].value_counts(ascending=False).head(20)"
   ]
  },
  {
   "cell_type": "code",
   "execution_count": null,
   "metadata": {},
   "outputs": [],
   "source": [
    "df_accidents[df_accidents['dead']==1]['refnismun'].value_counts().mean()"
   ]
  },
  {
   "cell_type": "code",
   "execution_count": null,
   "metadata": {},
   "outputs": [],
   "source": [
    "df_accidents[df_accidents['dead']==1]['refnismun'].value_counts().max()"
   ]
  },
  {
   "cell_type": "code",
   "execution_count": null,
   "metadata": {},
   "outputs": [],
   "source": [
    "df_accidents[df_accidents['dead']==1]['refnismun'].value_counts().min()"
   ]
  },
  {
   "cell_type": "code",
   "execution_count": null,
   "metadata": {},
   "outputs": [],
   "source": [
    "#Explore municipalities\n",
    "\n",
    "findmun = \"C:\\\\Users\\\\Robin Luyck\\\\Documents\\\\data\\\\road_accidents_Belgium_2010_2018_local\\\\Geoplot\\\\Arcgis\\\\municipalities\\\\bemun.shp\"\n",
    "mapped_mun = gpd.read_file(findmun)"
   ]
  },
  {
   "cell_type": "code",
   "execution_count": null,
   "metadata": {},
   "outputs": [],
   "source": [
    "mapped_mun = mapped_mun.drop(['OBJECTID','ADMUNAFR','ADMUNADU','ADMUNAGE','arrond','geometry'],axis=1)"
   ]
  },
  {
   "cell_type": "code",
   "execution_count": null,
   "metadata": {},
   "outputs": [],
   "source": [
    "type(mapped_mun['CODE_INS'].iloc[0])"
   ]
  },
  {
   "cell_type": "code",
   "execution_count": null,
   "metadata": {},
   "outputs": [],
   "source": [
    "mapped_mun['CODE_INS']=mapped_mun['CODE_INS'].astype(int)"
   ]
  },
  {
   "cell_type": "code",
   "execution_count": null,
   "metadata": {},
   "outputs": [],
   "source": [
    "mun_name = pd.merge(df_reduced, mapped_mun, on='CODE_INS')"
   ]
  },
  {
   "cell_type": "code",
   "execution_count": null,
   "metadata": {},
   "outputs": [],
   "source": [
    "mun_name"
   ]
  },
  {
   "cell_type": "code",
   "execution_count": null,
   "metadata": {
    "scrolled": true
   },
   "outputs": [],
   "source": [
    "mun_name.sort_values([('dead')],ascending=False)[:15] "
   ]
  },
  {
   "cell_type": "code",
   "execution_count": null,
   "metadata": {},
   "outputs": [],
   "source": [
    "mun_name[mun_name['Communes']=='Wellen']"
   ]
  },
  {
   "cell_type": "code",
   "execution_count": null,
   "metadata": {},
   "outputs": [],
   "source": [
    "mun_name[mun_name['Communes']=='Overpelt']"
   ]
  },
  {
   "cell_type": "markdown",
   "metadata": {},
   "source": [
    "Ok these municipalities have the most deads\n",
    "But how about the amount of people living in it\n",
    "How about it being a hotsport for companies and thus people from other municipalities going there more often than other places?\n",
    "\n",
    "Nonetheles there are more deads  "
   ]
  },
  {
   "cell_type": "code",
   "execution_count": null,
   "metadata": {
    "scrolled": true
   },
   "outputs": [],
   "source": [
    "df_accidents.head()"
   ]
  },
  {
   "cell_type": "code",
   "execution_count": null,
   "metadata": {},
   "outputs": [],
   "source": [
    "sns.countplot(df_accidents['year'])"
   ]
  },
  {
   "cell_type": "code",
   "execution_count": null,
   "metadata": {},
   "outputs": [],
   "source": [
    "sns.countplot(df_accidents['quarter'])"
   ]
  },
  {
   "cell_type": "code",
   "execution_count": null,
   "metadata": {},
   "outputs": [],
   "source": [
    "sns.countplot(df_accidents['dayow'])"
   ]
  },
  {
   "cell_type": "code",
   "execution_count": null,
   "metadata": {},
   "outputs": [],
   "source": [
    "sns.countplot(df_accidents['hr'])"
   ]
  },
  {
   "cell_type": "code",
   "execution_count": null,
   "metadata": {},
   "outputs": [],
   "source": [
    "sns.countplot(df_accidents['month'])"
   ]
  },
  {
   "cell_type": "code",
   "execution_count": null,
   "metadata": {},
   "outputs": [],
   "source": [
    "print(df_accidents['dead'].value_counts())\n",
    "print(df_accidents['deadafter30d'].value_counts())\n",
    "print(df_accidents['mortallyinjured'].value_counts())\n",
    "print(df_accidents['severelyinjured'].value_counts())\n",
    "print(df_accidents['slightlyinjured'].value_counts())"
   ]
  },
  {
   "cell_type": "code",
   "execution_count": null,
   "metadata": {},
   "outputs": [],
   "source": [
    "df_accidents.groupby('year').agg({'dead': [np.mean],\n",
    "                                  'deadafter30d': [np.mean],\n",
    "                                  'mortallyinjured':[np.mean],\n",
    "                                  'severelyinjured':[np.mean],\n",
    "                                  'slightlyinjured':[np.mean]})"
   ]
  },
  {
   "cell_type": "code",
   "execution_count": null,
   "metadata": {},
   "outputs": [],
   "source": [
    "# dead =                Number of accidents with dead\n",
    "# deadafter30d =        Number of accidents with dead 30 days\n",
    "# mortallyinjured =     Number of accidents with mortally injured\n",
    "# severelyinjured =     Number of accidents with severely injured\n",
    "# slightlyinjured =     Number of accidents with slightly injured"
   ]
  },
  {
   "cell_type": "code",
   "execution_count": null,
   "metadata": {},
   "outputs": [],
   "source": [
    "fig, axs = plt.subplots(5)\n",
    "\n",
    "fig.set_figheight(15)\n",
    "fig.set_figwidth(10)\n",
    "\n",
    "fig.suptitle('casualties/injured degree over the years',x=0.5,y=0.92)\n",
    "\n",
    "axs[0].plot(df_accidents.groupby('year').agg({'dead': [np.mean]}))\n",
    "axs[0].set_title('dead')\n",
    "axs[1].plot(df_accidents.groupby('year').agg({'deadafter30d': [np.mean]}))\n",
    "axs[1].set_title('deadafter30d')\n",
    "axs[2].plot(df_accidents.groupby('year').agg({'mortallyinjured': [np.mean]}))\n",
    "axs[2].set_title('mortallyinjured')\n",
    "axs[3].plot(df_accidents.groupby('year').agg({'severelyinjured': [np.mean]}))\n",
    "axs[3].set_title('severelyinjured')\n",
    "axs[4].plot(df_accidents.groupby('year').agg({'slightlyinjured': [np.mean]}))\n",
    "axs[4].set_title('slightlyinjured')\n",
    "\n",
    "for ax in axs.flat:\n",
    "    ax.set(xlabel='year', ylabel='mean')\n",
    "\n",
    "# Hide x labels and tick labels for top plots and y ticks for right plots.\n",
    "for ax in axs.flat:\n",
    "    ax.label_outer()\n",
    "    \n",
    "# #same y scale\n",
    "# for ax in axs.flat:\n",
    "#     ax.set_ylim([0,0.1])"
   ]
  },
  {
   "cell_type": "code",
   "execution_count": null,
   "metadata": {
    "scrolled": true
   },
   "outputs": [],
   "source": [
    "df_accidents.head(1)"
   ]
  },
  {
   "cell_type": "code",
   "execution_count": null,
   "metadata": {
    "scrolled": true
   },
   "outputs": [],
   "source": [
    "print('total dead : '+ str(len(df_accidents[df_accidents['dead']==1])))\n",
    "print('total deadafter30d : '+ str(len(df_accidents[df_accidents['deadafter30d']==1])))\n",
    "print('total mortallyinjured : '+ str(len(df_accidents[df_accidents['mortallyinjured']==1])))\n",
    "print('total severelyinjured : '+ str(len(df_accidents[df_accidents['severelyinjured']==1])))\n",
    "print('total slightlyinjured : '+ str(len(df_accidents[df_accidents['slightlyinjured']==1])))"
   ]
  },
  {
   "cell_type": "code",
   "execution_count": null,
   "metadata": {},
   "outputs": [],
   "source": [
    "df_accidents.shape"
   ]
  },
  {
   "cell_type": "code",
   "execution_count": null,
   "metadata": {},
   "outputs": [],
   "source": [
    "print('% dead : '+ str(len(df_accidents[df_accidents['dead']==1])/617972*100)+'%')\n",
    "print('% deadafter30d : '+ str(len(df_accidents[df_accidents['deadafter30d']==1])/617972*100)+'%')\n",
    "print('% mortallyinjured : '+ str(len(df_accidents[df_accidents['mortallyinjured']==1])/617972*100)+'%')\n",
    "print('% severelyinjured : '+ str(len(df_accidents[df_accidents['severelyinjured']==1])/617972*100)+'%')\n",
    "print('% slightlyinjured : '+ str(len(df_accidents[df_accidents['slightlyinjured']==1])/617972*100)+'%')"
   ]
  },
  {
   "cell_type": "code",
   "execution_count": null,
   "metadata": {},
   "outputs": [],
   "source": [
    "corr_ = df_accidents[['dead','deadafter30d']]\n",
    "corr__ = df_accidents[['dead','mortallyinjured']]"
   ]
  },
  {
   "cell_type": "code",
   "execution_count": null,
   "metadata": {},
   "outputs": [],
   "source": [
    "corrMatrix_ = corr_.corr()\n",
    "corrMatrix__ = corr__.corr()"
   ]
  },
  {
   "cell_type": "code",
   "execution_count": null,
   "metadata": {},
   "outputs": [],
   "source": [
    "sns.heatmap(corrMatrix_,annot=True)"
   ]
  },
  {
   "cell_type": "code",
   "execution_count": null,
   "metadata": {},
   "outputs": [],
   "source": [
    "sns.heatmap(corrMatrix__,annot=True)"
   ]
  },
  {
   "cell_type": "code",
   "execution_count": null,
   "metadata": {},
   "outputs": [],
   "source": [
    "sns.countplot(df_accidents['where'])"
   ]
  },
  {
   "cell_type": "code",
   "execution_count": null,
   "metadata": {},
   "outputs": [],
   "source": [
    "sns.countplot(df_accidents['dead'])"
   ]
  },
  {
   "cell_type": "code",
   "execution_count": null,
   "metadata": {},
   "outputs": [],
   "source": [
    "sns.set(rc={'figure.figsize':(15,5)})\n",
    "ax = sns.countplot(df_accidents['typeofroad'])\n",
    "ax.set_xticklabels(ax.get_xticklabels(),rotation=20)"
   ]
  },
  {
   "cell_type": "code",
   "execution_count": null,
   "metadata": {},
   "outputs": [],
   "source": [
    "sns.countplot(df_accidents['illumination'])"
   ]
  },
  {
   "cell_type": "code",
   "execution_count": null,
   "metadata": {},
   "outputs": [],
   "source": []
  }
 ],
 "metadata": {
  "kernelspec": {
   "display_name": "Python 3",
   "language": "python",
   "name": "python3"
  },
  "language_info": {
   "codemirror_mode": {
    "name": "ipython",
    "version": 3
   },
   "file_extension": ".py",
   "mimetype": "text/x-python",
   "name": "python",
   "nbconvert_exporter": "python",
   "pygments_lexer": "ipython3",
   "version": "3.7.7"
  }
 },
 "nbformat": 4,
 "nbformat_minor": 4
}
